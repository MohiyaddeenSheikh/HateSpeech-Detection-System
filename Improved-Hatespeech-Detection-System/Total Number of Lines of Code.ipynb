{
 "cells": [
  {
   "cell_type": "markdown",
   "id": "18875144",
   "metadata": {},
   "source": [
    "###  <center> ---       Number of Lines of Code in the Project       --- </center>"
   ]
  },
  {
   "cell_type": "code",
   "execution_count": 2,
   "id": "47bcff0f",
   "metadata": {},
   "outputs": [
    {
     "name": "stdout",
     "output_type": "stream",
     "text": [
      "Total Number of Lines of Code :  1092\n"
     ]
    }
   ],
   "source": [
    "from json import load\n",
    "import ipynb_path\n",
    "import os\n",
    "\n",
    "def count_code_line(nb):\n",
    "    with open(nb, encoding='utf-8') as data_file:\n",
    "        cells = load(data_file)['cells']\n",
    "        Counter = 0\n",
    "        for c in cells:\n",
    "            if c['cell_type'] == 'code':\n",
    "                if isinstance(c['source'], list):\n",
    "                    return(sum(len(c['source']) for c in cells if c['cell_type'] == 'code'))\n",
    "                else:\n",
    "                    CoList = c['source'].split(\"\\n\")\n",
    "                    for i in CoList:\n",
    "                        if i:\n",
    "                            Counter += 1       \n",
    "        return(Counter)                    \n",
    "    \n",
    "\n",
    "\n",
    "mypath = 'C:\\GIT_PROJECT\\Impr HS Sys\\Improved-Hatespeech-Detection-System'\n",
    "inside_dir = listdir(mypath)\n",
    "count = 0\n",
    "for file in inside_dir:\n",
    "    full_path = os.path.join(mypath, file)\n",
    "    f_name, f_ext = os.path.splitext(full_path)\n",
    "    if isfile(full_path) and (f_ext == '.ipynb' or f_ext == '.py') :\n",
    "        #print(full_path)\n",
    "        count += count_code_line(full_path)\n",
    "        \n",
    "print(\"Total Number of Lines of Code : \",count)    "
   ]
  },
  {
   "cell_type": "code",
   "execution_count": null,
   "id": "55150b24",
   "metadata": {},
   "outputs": [],
   "source": []
  }
 ],
 "metadata": {
  "kernelspec": {
   "display_name": "Python 3",
   "language": "python",
   "name": "python3"
  },
  "language_info": {
   "codemirror_mode": {
    "name": "ipython",
    "version": 3
   },
   "file_extension": ".py",
   "mimetype": "text/x-python",
   "name": "python",
   "nbconvert_exporter": "python",
   "pygments_lexer": "ipython3",
   "version": "3.8.8"
  }
 },
 "nbformat": 4,
 "nbformat_minor": 5
}
